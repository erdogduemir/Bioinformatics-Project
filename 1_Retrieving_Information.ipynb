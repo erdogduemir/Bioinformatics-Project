{
  "cells": [
    {
      "cell_type": "code",
      "execution_count": null,
      "metadata": {
        "id": "mHe2I1amP5ZI"
      },
      "outputs": [],
      "source": [
        "!pip install epigenomic_dataset\n",
        "!pip install ucsc_genomes_downloader"
      ]
    },
    {
      "cell_type": "code",
      "execution_count": null,
      "metadata": {
        "id": "bO4gLllAP5ZJ"
      },
      "outputs": [],
      "source": [
        "import numpy as np\n",
        "import pandas as pd\n",
        "import pickle\n",
        "from epigenomic_dataset import active_promoters_vs_inactive_promoters\n",
        "from epigenomic_dataset import active_enhancers_vs_inactive_enhancers\n",
        "from ucsc_genomes_downloader import Genome\n",
        "import matplotlib.pyplot as plt\n",
        "from sklearn.impute import KNNImputer\n",
        "from sklearn.preprocessing import RobustScaler"
      ]
    },
    {
      "cell_type": "markdown",
      "metadata": {
        "id": "KJT-Ax8NP5ZK"
      },
      "source": [
        "### Constants"
      ]
    },
    {
      "cell_type": "code",
      "execution_count": null,
      "metadata": {
        "id": "98bXpbc0P5ZM"
      },
      "outputs": [],
      "source": [
        "[cell_line, assembly, window_size] = ['HepG2', 'hg38', 256]"
      ]
    },
    {
      "cell_type": "code",
      "execution_count": null,
      "metadata": {
        "id": "77Grr9ClP5ZM"
      },
      "outputs": [],
      "source": [
        "def load_epigenomes_and_labels(cell_line, assembly, window_size):\n",
        "    epigenomes = {\n",
        "        \"promoters\": {},\n",
        "        \"enhancers\": {}\n",
        "    }\n",
        "\n",
        "    labels = {\n",
        "        \"promoters\": {},\n",
        "        \"enhancers\": {}\n",
        "    }\n",
        "\n",
        "    epigenomes[\"promoters\"], labels[\"promoters\"] =\\\n",
        "        active_promoters_vs_inactive_promoters(\n",
        "            cell_line = cell_line,\n",
        "            assembly = assembly,\n",
        "            dataset = \"fantom\",\n",
        "            window_size = window_size,\n",
        "            root = \"datasets\",\n",
        "            metric='mean'\n",
        "        )\n",
        "\n",
        "    epigenomes[\"enhancers\"], labels[\"enhancers\"] =\\\n",
        "        active_enhancers_vs_inactive_enhancers(\n",
        "            cell_line = cell_line,\n",
        "            assembly = assembly,\n",
        "            dataset = \"fantom\",\n",
        "            window_size = window_size,\n",
        "            root = \"datasets\",\n",
        "            metric='mean'\n",
        "        )\n",
        "    return epigenomes,labels"
      ]
    },
    {
      "cell_type": "code",
      "execution_count": null,
      "metadata": {
        "id": "7nGRe_shP5ZN"
      },
      "outputs": [],
      "source": [
        "epigenomes, labels = load_epigenomes_and_labels(cell_line = cell_line, assembly = assembly, window_size = window_size)"
      ]
    },
    {
      "cell_type": "code",
      "execution_count": null,
      "metadata": {
        "id": "egoUH7S1P5ZN"
      },
      "outputs": [],
      "source": [
        "def to_bed(data:pd.DataFrame)->pd.DataFrame:\n",
        "    \"\"\"Return bed coordinates from given dataset.\"\"\"\n",
        "    return data.reset_index()[data.index.names]"
      ]
    },
    {
      "cell_type": "code",
      "execution_count": null,
      "metadata": {
        "id": "lFixq22oP5ZO"
      },
      "outputs": [],
      "source": [
        "genome = Genome(assembly)\n",
        "genome"
      ]
    },
    {
      "cell_type": "markdown",
      "metadata": {
        "id": "-yVYW7_fP5ZP"
      },
      "source": [
        "KNN Inputer fills nan values within the given  dataframe using knn"
      ]
    },
    {
      "cell_type": "code",
      "execution_count": null,
      "metadata": {
        "id": "j-3-cyWcP5ZP"
      },
      "outputs": [],
      "source": [
        "def knn_imputer(df:pd.DataFrame, neighbours:int=5)->pd.DataFrame:\n",
        "    return pd.DataFrame(\n",
        "        KNNImputer(n_neighbors=neighbours).fit_transform(df.values),\n",
        "        columns=df.columns,\n",
        "        index=df.index\n",
        "    )\n",
        "epigenomes['promoters'] = knn_imputer(epigenomes['promoters'])\n",
        "epigenomes['enhancers'] = knn_imputer(epigenomes['enhancers'])"
      ]
    },
    {
      "cell_type": "markdown",
      "metadata": {
        "id": "RhdsoS9AP5ZQ"
      },
      "source": [
        "### Dropping Const Features"
      ]
    },
    {
      "cell_type": "code",
      "execution_count": null,
      "metadata": {
        "id": "q77iRcKQP5ZR",
        "outputId": "c0353e9b-c9d6-4de9-86ef-a37dc4b5147b"
      },
      "outputs": [
        {
          "name": "stdout",
          "output_type": "stream",
          "text": [
            "No constant features were found in promoters!\n",
            "No constant features were found in enhancers!\n"
          ]
        }
      ],
      "source": [
        "def drop_constant_features(df:pd.DataFrame)->pd.DataFrame:\n",
        "    return df. loc[:, (df != df.iloc[0]).any()]\n",
        "    \n",
        "for region, x in epigenomes.items():\n",
        "    result = drop_constant_features(x)\n",
        "    if x.shape[1] != result.shape[1]:\n",
        "        print(f\"Features in {region} were constant and had to be dropped!\")\n",
        "        epigenomes[region] = result\n",
        "    else:\n",
        "        print(f\"No constant features were found in {region}!\")"
      ]
    },
    {
      "cell_type": "markdown",
      "metadata": {
        "id": "0nNnPhNKP5ZR"
      },
      "source": [
        "### Scaling using Z-Scoring"
      ]
    },
    {
      "cell_type": "code",
      "execution_count": null,
      "metadata": {
        "id": "s3j9x_26P5ZS"
      },
      "outputs": [],
      "source": [
        "def robust_zscoring(df:pd.DataFrame)->pd.DataFrame:\n",
        "    return pd.DataFrame(\n",
        "        RobustScaler().fit_transform(df.values),\n",
        "        columns=df.columns,\n",
        "        index=df.index\n",
        "    )\n",
        "    \n",
        "epigenomes = {\n",
        "    region: robust_zscoring(x) for region, x in epigenomes.items()\n",
        "}"
      ]
    },
    {
      "cell_type": "markdown",
      "metadata": {
        "id": "ODU57eg8P5ZS"
      },
      "source": [
        "### Label Clipping\n",
        "99th quartile is used to remive outliers frim the data"
      ]
    },
    {
      "cell_type": "code",
      "execution_count": null,
      "metadata": {
        "id": "bTE1eKWeP5ZS"
      },
      "outputs": [],
      "source": [
        "quantile_99_promoters = np.ceil(np.quantile(labels['promoters'], q=0.99))\n",
        "quantile_99_enhancers = np.ceil(np.quantile(labels['enhancers'], q=0.99))\n",
        "\n",
        "labels['promoters'][labels['promoters']>quantile_99_promoters] = quantile_99_promoters\n",
        "labels['enhancers'][labels['enhancers']>quantile_99_enhancers] = quantile_99_enhancers"
      ]
    },
    {
      "cell_type": "markdown",
      "metadata": {
        "id": "HmeFELYYP5ZS"
      },
      "source": [
        "### Label Binarization"
      ]
    },
    {
      "cell_type": "code",
      "execution_count": null,
      "metadata": {
        "id": "E0onkuv2P5ZS",
        "outputId": "42681e10-37bf-41b9-dc3e-74c603e2ab76"
      },
      "outputs": [
        {
          "data": {
            "image/png": "[encoded data removed]",
            "text/plain": [
              "<Figure size 1152x504 with 2 Axes>"
            ]
          },
          "metadata": {
            "needs_background": "light"
          },
          "output_type": "display_data"
        }
      ],
      "source": [
        "fig, axes = plt.subplots(1, 2, figsize=(16,7))\n",
        "for i, region in enumerate(labels.items()):\n",
        "    region[1][\"HEPG2\"].hist(log=True, \n",
        "                           ax=axes[i],\n",
        "                           bins=100,\n",
        "                           alpha=0.6, \n",
        "                           color='green')\n",
        "    axes[i].set_title(f\"Labels distribution of {region[0]} regions in TPMs\")"
      ]
    },
    {
      "cell_type": "code",
      "execution_count": null,
      "metadata": {
        "id": "m2J4BWM_P5ZS"
      },
      "outputs": [],
      "source": [
        "tentative_binarized_labels = {\n",
        "    \"promoters\": {},\n",
        "    \"enhancers\": {}\n",
        "}\n",
        "tentative_labels = {\n",
        "    \"promoters\": {},\n",
        "    \"enhancers\": {}\n",
        "}\n",
        "\n",
        "tentative_labels['enhancers'] = labels['enhancers'][(labels['enhancers'] <= 0.0 ) | (labels['enhancers'] >= 1.0)].dropna()\n",
        "tentative_labels['promoters'] = labels['promoters'][(labels['promoters'] <= 0.0 ) | (labels['promoters'] >= 1.0)].dropna()\n",
        "\n",
        "tentative_binarized_labels['promoters'] = labels['promoters']  >= 1.0 \n",
        "tentative_binarized_labels['enhancers'] = labels['enhancers']  >= 1.0\n",
        "\n",
        "binarized_labels = {\n",
        "    \"promoters\": {},\n",
        "    \"enhancers\": {}\n",
        "}\n",
        "\n",
        "binarized_labels['promoters'] = labels['promoters']  > 1.0\n",
        "binarized_labels['enhancers'] = labels['enhancers']  > 0.0"
      ]
    },
    {
      "cell_type": "code",
      "execution_count": null,
      "metadata": {
        "id": "cXSb5kS8P5ZT",
        "outputId": "28b29993-9ee4-4e2e-8952-de9f402c0c4f"
      },
      "outputs": [
        {
          "name": "stderr",
          "output_type": "stream",
          "text": [
            "/tmp/ipykernel_3053/1774997324.py:7: UserWarning: Matplotlib is currently using module://matplotlib_inline.backend_inline, which is a non-GUI backend, so cannot show the figure.\n",
            "  fig.show()\n"
          ]
        },
        {
          "data": {
            "image/png": "[encoded data removed]",
            "text/plain": [
              "<Figure size 720x360 with 2 Axes>"
            ]
          },
          "metadata": {
            "needs_background": "light"
          },
          "output_type": "display_data"
        }
      ],
      "source": [
        "#The threshold 1.0 is used to distinguish between active and inactive promoters/enancher\n",
        "fig, axes = plt.subplots(ncols=2, figsize=(10, 5))\n",
        "\n",
        "for axis, (region, y) in zip(axes.ravel(), binarized_labels.items()):\n",
        "    (y).astype(int).hist(ax=axis, bins=3, alpha=0.7)\n",
        "    axis.set_title(f\"Classes count in {region}\")\n",
        "fig.show()"
      ]
    },
    {
      "cell_type": "code",
      "execution_count": null,
      "metadata": {
        "id": "QgvRXM8tP5ZT",
        "outputId": "e6a068b5-288d-435c-c21e-5c406ffea716"
      },
      "outputs": [
        {
          "name": "stdout",
          "output_type": "stream",
          "text": [
            " The Imbalance ratio of promoters is 2.8740594213016832 \n",
            " The Imbalance ratio of enhancers is 7.817751149505364 \n"
          ]
        }
      ],
      "source": [
        "print(f\" The Imbalance ratio of promoters is {len(binarized_labels['promoters'][binarized_labels['promoters']==False].dropna()) /len(binarized_labels['promoters'][binarized_labels['promoters']==True].dropna()) } \")\n",
        "print(f\" The Imbalance ratio of enhancers is {len(binarized_labels['enhancers'][binarized_labels['enhancers']==False].dropna()) /len(binarized_labels['enhancers'][binarized_labels['enhancers']==True].dropna()) } \") "
      ]
    },
    {
      "cell_type": "markdown",
      "metadata": {
        "id": "AbFyWYc0P5ZT"
      },
      "source": [
        "By doing this we can find out which dataset is more trainable"
      ]
    },
    {
      "cell_type": "code",
      "execution_count": null,
      "metadata": {
        "id": "0ViF5zfNP5ZT"
      },
      "outputs": [],
      "source": [
        "with open('./epigenomes/epigenomes_promoters.pkl', 'wb') as f:\n",
        "    pickle.dump(epigenomes[\"promoters\"], file=f)\n",
        "with open('./epigenomes/epigenomes_enhancers.pkl', 'wb') as f:\n",
        "    pickle.dump(epigenomes[\"enhancers\"], file=f)\n",
        "with open('./epigenomes/labels_promoters.pkl', 'wb') as f:\n",
        "    pickle.dump(labels[\"promoters\"], file=f)\n",
        "with open('./epigenomes/labels_enhancers.pkl', 'wb') as f:\n",
        "    pickle.dump(labels[\"enhancers\"], file=f)\n",
        "with open('./epigenomes/binarized_labels_promoters.pkl', 'wb') as f:\n",
        "    pickle.dump(binarized_labels['promoters'], file=f)\n",
        "with open('./epigenomes/binarized_labels_enhancers.pkl', 'wb') as f:\n",
        "    pickle.dump(binarized_labels['enhancers'], file=f)"
      ]
    },
    {
      "cell_type": "markdown",
      "metadata": {
        "id": "RFVxT-rvP5ZT"
      },
      "source": [
        "### Tests"
      ]
    },
    {
      "cell_type": "code",
      "execution_count": null,
      "metadata": {
        "id": "s3jamC3UP5ZT"
      },
      "outputs": [],
      "source": [
        "import unittest\n",
        "\n",
        "class Test(unittest.TestCase):\n",
        "    def test_drop_costant_features(self):\n",
        "        constant_df = pd.DataFrame([[0, 0],[0, 1]])\n",
        "        constant_df = drop_constant_features(constant_df)\n",
        "        self.assertEqual( len(constant_df.columns), 1)\n",
        "    def test_knn(self):\n",
        "        epigenomes,_ = load_epigenomes_and_labels(cell_line = cell_line, assembly = assembly, window_size = 256)\n",
        "        #Testing there are no NaN values after imputation\n",
        "        self.assertEqual(knn_imputer(epigenomes['promoters']).isna().values.sum(), 0)\n",
        "        self.assertEqual(knn_imputer(epigenomes['enhancers']).isna().values.sum(), 0)"
      ]
    },
    {
      "cell_type": "code",
      "execution_count": null,
      "metadata": {
        "id": "XV_zFjuTP5ZT",
        "outputId": "c2e82c63-e320-40dd-a181-5450d3b4bcc0"
      },
      "outputs": [
        {
          "name": "stderr",
          "output_type": "stream",
          "text": [
            "test_drop_costant_features (__main__.Test) ... ok\n",
            "test_knn (__main__.Test) ... ok\n",
            "\n",
            "----------------------------------------------------------------------\n",
            "Ran 2 tests in 84.363s\n",
            "\n",
            "OK\n"
          ]
        },
        {
          "data": {
            "text/plain": [
              "<unittest.main.TestProgram at 0x7fdab4e29840>"
            ]
          },
          "execution_count": 14,
          "metadata": {},
          "output_type": "execute_result"
        }
      ],
      "source": [
        "unittest.main(argv=[''], verbosity=2, exit=False)\n"
      ]
    }
  ],
  "metadata": {
    "kernelspec": {
      "display_name": "Python 3.10.5 64-bit",
      "language": "python",
      "name": "python3"
    },
    "language_info": {
      "codemirror_mode": {
        "name": "ipython",
        "version": 3
      },
      "file_extension": ".py",
      "mimetype": "text/x-python",
      "name": "python",
      "nbconvert_exporter": "python",
      "pygments_lexer": "ipython3",
      "version": "3.10.5"
    },
    "orig_nbformat": 4,
    "vscode": {
      "interpreter": {
        "hash": "e7370f93d1d0cde622a1f8e1c04877d8463912d04d973331ad4851f04de6915a"
      }
    },
    "colab": {
      "name": "1.Retrieving_Information.ipynb",
      "provenance": []
    }
  },
  "nbformat": 4,
  "nbformat_minor": 0
}